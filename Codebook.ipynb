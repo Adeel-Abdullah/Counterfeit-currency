{
 "cells": [
  {
   "cell_type": "markdown",
   "metadata": {},
   "source": [
    "# Create Codebook from Samples"
   ]
  },
  {
   "cell_type": "code",
   "execution_count": 1,
   "metadata": {},
   "outputs": [],
   "source": [
    "import cv2\n",
    "import numpy as np\n",
    "import os\n",
    "from utils import segment_by_color_kmeans"
   ]
  },
  {
   "cell_type": "code",
   "execution_count": 2,
   "metadata": {
    "scrolled": true
   },
   "outputs": [],
   "source": [
    "import cv2\n",
    "import numpy as np\n",
    "from IPython.display import clear_output, Image, display\n",
    "from io import BytesIO\n",
    "import PIL.Image\n",
    "\n",
    "def showarray(a, fmt='jpeg'):\n",
    "    a = np.uint8(np.clip(a, 0, 255))\n",
    "    f = BytesIO()\n",
    "    if len(a.shape)<3:\n",
    "            PIL.Image.fromarray(a).save(f, fmt)\n",
    "    else:\n",
    "            PIL.Image.fromarray(cv2.cvtColor(a,cv2.COLOR_RGB2BGR)).save(f, fmt)\n",
    "    display(Image(data=f.getvalue()))"
   ]
  },
  {
   "cell_type": "code",
   "execution_count": 9,
   "metadata": {},
   "outputs": [],
   "source": [
    "codebook = {}"
   ]
  },
  {
   "cell_type": "code",
   "execution_count": 2,
   "metadata": {},
   "outputs": [],
   "source": [
    "# average = warped.mean(axis=0).mean(axis=0)\n",
    "# median = np.median(np.median(warped, axis=0),axis=0)\n",
    "\n",
    "\n",
    "\n",
    "# fig, (ax0, ax1) = plt.subplots(1, 2, figsize=(12,6))\n",
    "# ax0.imshow(avg_patch)\n",
    "# ax0.set_title('Average color')\n",
    "# ax0.axis('off')\n",
    "# ax1.imshow(dom_patch)\n",
    "# ax1.set_title('Dominant colors')\n",
    "# ax1.axis('off')\n",
    "# plt.show(fig)"
   ]
  },
  {
   "cell_type": "code",
   "execution_count": 19,
   "metadata": {},
   "outputs": [],
   "source": [
    "directory = \"Sample\"\n",
    "from utils import segment_by_color_kmeans"
   ]
  },
  {
   "cell_type": "code",
   "execution_count": 20,
   "metadata": {},
   "outputs": [],
   "source": [
    "for filename in os.listdir(directory):\n",
    "    name = filename[0:-4]\n",
    "    print(name)\n",
    "    img = cv2.imread(os.path.join(directory,filename))\n",
    "    color, pal, dom = segment_by_color_kmeans(img)\n",
    "    showarray(dom)\n",
    "    codebook[name]=color"
   ]
  },
  {
   "cell_type": "code",
   "execution_count": 21,
   "metadata": {},
   "outputs": [
    {
     "data": {
      "text/plain": [
       "{'100': array([ 92., 115., 159.]),\n",
       " '1000': array([110. , 118. , 108.5]),\n",
       " '50': array([117., 128., 143.]),\n",
       " '500': array([134., 146., 149.])}"
      ]
     },
     "execution_count": 21,
     "metadata": {},
     "output_type": "execute_result"
    }
   ],
   "source": [
    "codebook"
   ]
  },
  {
   "cell_type": "code",
   "execution_count": 12,
   "metadata": {},
   "outputs": [],
   "source": [
    "import pickle\n",
    "with open('codebook.p', 'wb') as fp:\n",
    "    pickle.dump(codebook, fp, protocol=pickle.HIGHEST_PROTOCOL)"
   ]
  },
  {
   "cell_type": "code",
   "execution_count": 13,
   "metadata": {},
   "outputs": [],
   "source": [
    "with open('codebook.p', 'rb') as fp:\n",
    "    data = pickle.load(fp)"
   ]
  },
  {
   "cell_type": "code",
   "execution_count": null,
   "metadata": {},
   "outputs": [],
   "source": []
  }
 ],
 "metadata": {
  "kernelspec": {
   "display_name": "Python 3",
   "language": "python",
   "name": "python3"
  },
  "language_info": {
   "codemirror_mode": {
    "name": "ipython",
    "version": 3
   },
   "file_extension": ".py",
   "mimetype": "text/x-python",
   "name": "python",
   "nbconvert_exporter": "python",
   "pygments_lexer": "ipython3",
   "version": "3.6.7"
  }
 },
 "nbformat": 4,
 "nbformat_minor": 2
}
