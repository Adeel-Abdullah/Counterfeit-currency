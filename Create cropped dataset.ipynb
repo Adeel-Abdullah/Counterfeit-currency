{
 "cells": [
  {
   "cell_type": "code",
   "execution_count": 1,
   "metadata": {},
   "outputs": [],
   "source": [
    "import cv2\n",
    "import numpy as np\n",
    "import os\n",
    "from utils import scan,showarray"
   ]
  },
  {
   "cell_type": "code",
   "execution_count": 2,
   "metadata": {},
   "outputs": [],
   "source": [
    "data_directory = \"C:\\\\Users\\\\Abdullah\\\\Desktop\\\\Notes Watermark\\\\Notes Watermark\\\\dataset\"\n",
    "orig_directory = \"C:\\\\Users\\\\Abdullah\\\\Desktop\\\\Notes Watermark\\\\Notes Watermark\\\\orig\"\n",
    "for filename in os.listdir(orig_directory):\n",
    "    for f in os.listdir(os.path.join(orig_directory,filename)):\n",
    "        img = cv2.imread(os.path.join(orig_directory,filename,f))\n",
    "        img = scan(img)[0]\n",
    "        cv2.imwrite(os.path.join(data_directory,filename,f),img)"
   ]
  },
  {
   "cell_type": "code",
   "execution_count": null,
   "metadata": {},
   "outputs": [],
   "source": []
  }
 ],
 "metadata": {
  "kernelspec": {
   "display_name": "Python 3",
   "language": "python",
   "name": "python3"
  },
  "language_info": {
   "codemirror_mode": {
    "name": "ipython",
    "version": 3
   },
   "file_extension": ".py",
   "mimetype": "text/x-python",
   "name": "python",
   "nbconvert_exporter": "python",
   "pygments_lexer": "ipython3",
   "version": "3.6.7"
  }
 },
 "nbformat": 4,
 "nbformat_minor": 2
}
